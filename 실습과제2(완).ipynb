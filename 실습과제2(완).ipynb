{
 "cells": [
  {
   "cell_type": "markdown",
   "id": "d2e1d9cd",
   "metadata": {},
   "source": [
    "# 실습과제 2(쇼핑몰 데이터 분석 미니 프로젝트)"
   ]
  },
  {
   "cell_type": "markdown",
   "id": "3bf93405",
   "metadata": {},
   "source": [
    "### 데이터 준비 및 가공"
   ]
  },
  {
   "cell_type": "code",
   "execution_count": null,
   "id": "592d91b7-71d4-41bb-891f-14293f3fade1",
   "metadata": {
    "scrolled": true,
    "tags": []
   },
   "outputs": [],
   "source": [
    "import pandas as pd\n",
    "df = pd.read_csv('./미니프로젝트-쇼핑몰 실습데이터 - 2019-01-01 ~ 2019-12-31.csv')"
   ]
  },
  {
   "cell_type": "code",
   "execution_count": null,
   "id": "6c4a68dc",
   "metadata": {},
   "outputs": [],
   "source": [
    "df.dtypes"
   ]
  },
  {
   "cell_type": "code",
   "execution_count": null,
   "id": "f6907574-c743-4976-9798-506cc0de031c",
   "metadata": {
    "tags": []
   },
   "outputs": [],
   "source": [
    "df['업체명'] = df['업체명'].replace(to_replace='.*지니.*', value='지니', regex=True)\n",
    "df['결제방법'] = df['결제방법'].replace(to_replace='신.*', value='신용카드', regex=True)\n",
    "df['결제방법'] = df['결제방법'].replace(to_replace='후.*', value='후불', regex=True)\n",
    "df['결제방법'] = df['결제방법'].replace(to_replace='정.*', value='정기결제', regex=True)\n",
    "df['결제방법'] = df['결제방법'].replace(to_replace='적.*', value='적립금', regex=True)\n",
    "df['결제방법'] = df['결제방법'].replace(to_replace='현.*', value='현금간편결제', regex=True)"
   ]
  },
  {
   "cell_type": "code",
   "execution_count": null,
   "id": "daa9b569-166a-4596-bdf0-9aa7bc4552a2",
   "metadata": {
    "tags": []
   },
   "outputs": [],
   "source": [
    "df['판매금액'].fillna(0)\n",
    "df['판매금액'] = df['판매금액'].str.replace(',', '')\n",
    "df['판매금액'] = df['판매금액'].astype(int)  #문자열이었던 것을 정수형으로 바꿨음"
   ]
  },
  {
   "cell_type": "code",
   "execution_count": null,
   "id": "988fab7c",
   "metadata": {},
   "outputs": [],
   "source": [
    "df = df[df['업체명'].isin(['지니','다우기술','천재태블릿'])]"
   ]
  },
  {
   "cell_type": "code",
   "execution_count": null,
   "id": "77158737-1b70-44f1-bfa6-e8079b39df73",
   "metadata": {
    "tags": []
   },
   "outputs": [],
   "source": [
    "from datetime import datetime\n",
    "\n",
    "def convert_to_date(date_str):\n",
    "    return datetime.strptime(date_str, '%Y-%m-%d')\n",
    "\n",
    "df['주문일자'] = df['주문일자'].apply(convert_to_date)\n",
    "df['주문수량'] = df['주문수량'].fillna(0).astype(int)\n",
    "df['판매금액'] = df['판매금액'].fillna(0).astype(int)\n",
    "df = df.drop('초도상품', axis=1)\n",
    "df = df.drop('제작문구 내역', axis=1)"
   ]
  },
  {
   "cell_type": "code",
   "execution_count": null,
   "id": "8364a15b-92f2-4af9-9523-e25b4e3dbfcc",
   "metadata": {
    "scrolled": true,
    "tags": []
   },
   "outputs": [],
   "source": [
    "print(df.dtypes)"
   ]
  },
  {
   "cell_type": "code",
   "execution_count": null,
   "id": "e9f2ab01",
   "metadata": {},
   "outputs": [],
   "source": [
    "df['처리상태'].unique()"
   ]
  },
  {
   "cell_type": "code",
   "execution_count": null,
   "id": "bff264c8-06eb-4ce0-ae78-83b48235f64f",
   "metadata": {
    "tags": []
   },
   "outputs": [],
   "source": [
    "df['순이익'] = df.apply(lambda row: row['판매금액'] if row['처리상태'] in ['교환완료', '구매확정']\n",
    "                     else row['판매금액'] / 2 if row['처리상태'] in ['부분환불', '부분취소']\n",
    "                     else 0, axis=1).astype(int)"
   ]
  },
  {
   "cell_type": "code",
   "execution_count": null,
   "id": "1e22df04-1005-46be-a4e9-73cd613838ba",
   "metadata": {
    "tags": []
   },
   "outputs": [],
   "source": [
    "df['할부기간'] = df['할부기간'].str.replace('개월', '').fillna(0).astype(int)\n",
    "df['할부기간'].unique()"
   ]
  },
  {
   "cell_type": "code",
   "execution_count": null,
   "id": "b043ea78-67a7-4851-b789-bdb0f3123563",
   "metadata": {
    "tags": []
   },
   "outputs": [],
   "source": [
    "# 후불기간이 존재할 경우 순이익에서 나누어 그 다음달부터  n개월치 만큼 각각의 월에 부여할 수 있도록 한다."
   ]
  },
  {
   "cell_type": "code",
   "execution_count": null,
   "id": "9b924ccc-1ebd-418e-a17b-4add88cfc173",
   "metadata": {
    "tags": []
   },
   "outputs": [],
   "source": [
    "df['주문월'] = pd.to_datetime(df['주문일자']).dt.month\n",
    "df['주문년도'] = pd.to_datetime(df['주문일자']).dt.year\n",
    "df1= df[df['업체명'] == '지니']\n",
    "df2= df[df['업체명'] == '다우기술']\n",
    "df3= df[df['업체명'] == '천재태블릿']"
   ]
  },
  {
   "cell_type": "code",
   "execution_count": null,
   "id": "433bd102",
   "metadata": {
    "scrolled": true
   },
   "outputs": [],
   "source": [
    "print(df.dtypes)"
   ]
  },
  {
   "cell_type": "markdown",
   "id": "e0bf498a",
   "metadata": {},
   "source": [
    "## 1번"
   ]
  },
  {
   "cell_type": "markdown",
   "id": "876480ee",
   "metadata": {},
   "source": [
    "### 가장 많은 거래가 이루어지고 있는 3개의 입점 기업을 선정"
   ]
  },
  {
   "cell_type": "code",
   "execution_count": null,
   "id": "92321811",
   "metadata": {
    "scrolled": false
   },
   "outputs": [],
   "source": [
    "df.groupby('업체명').agg({'판매금액': 'sum'}).sort_values(by= '판매금액',ascending = False)"
   ]
  },
  {
   "cell_type": "code",
   "execution_count": null,
   "id": "1ff54392",
   "metadata": {},
   "outputs": [],
   "source": [
    "df.groupby('업체명').agg({'주문수량': 'sum'}).sort_values(by= '주문수량',ascending = False)"
   ]
  },
  {
   "cell_type": "code",
   "execution_count": null,
   "id": "8724624b",
   "metadata": {},
   "outputs": [],
   "source": [
    "len(df[df['업체명'] == '천재태블릿'])"
   ]
  },
  {
   "cell_type": "markdown",
   "id": "99f84ebc",
   "metadata": {},
   "source": [
    "### 22/11/08일을 기준으로 최근 3달을 바탕으로 1달씩 구매확정 비율"
   ]
  },
  {
   "cell_type": "code",
   "execution_count": null,
   "id": "c2dc4561",
   "metadata": {},
   "outputs": [],
   "source": [
    "df_1 = df[(df['주문일자'] >= convert_to_date('2022-8-9')) & (df['주문일자'] <= convert_to_date('2022-9-8'))]\n",
    "df_2 = df_1.groupby('업체명').agg({'처리상태' : 'count'})\n",
    "df_2['구매확정'] = df_1[(df_1['처리상태'] == '구매확정')].groupby('업체명').agg({'처리상태' : 'count'})\n",
    "df_2['확정비율'] = round((df_2['구매확정']/df_2['처리상태'])*100,2)\n",
    "df_2['미결제건'] = df_1[(df_1['처리상태'] == '미결제')].groupby('업체명').agg({'처리상태' : 'count'})\n",
    "df_2['미결제비율'] = round((df_2['미결제건']/df_2['처리상태'])*100,2)\n",
    "df_2.rename(columns={'처리상태': '주문건수'}, inplace=True)\n",
    "df_2"
   ]
  },
  {
   "cell_type": "code",
   "execution_count": null,
   "id": "e8bfa743",
   "metadata": {},
   "outputs": [],
   "source": [
    "df_1 = df[(df['주문일자'] >= convert_to_date('2022-9-9')) & (df['주문일자'] <= convert_to_date('2022-10-8'))]\n",
    "df_2 = df_1.groupby('업체명').agg({'처리상태' : 'count'})\n",
    "df_2['구매확정'] = df_1[(df_1['처리상태'] == '구매확정')].groupby('업체명').agg({'처리상태' : 'count'})\n",
    "df_2['확정비율'] = round((df_2['구매확정']/df_2['처리상태'])*100,2)\n",
    "df_2['미결제건'] = df_1[(df_1['처리상태'] == '미결제')].groupby('업체명').agg({'처리상태' : 'count'})\n",
    "df_2['미결제비율'] = round((df_2['미결제건']/df_2['처리상태'])*100,2)\n",
    "df_2.rename(columns={'처리상태': '주문건수'}, inplace=True)\n",
    "df_2"
   ]
  },
  {
   "cell_type": "code",
   "execution_count": null,
   "id": "92b2d644",
   "metadata": {},
   "outputs": [],
   "source": [
    "df_1 = df[(df['주문일자'] >= convert_to_date('2022-10-9')) & (df['주문일자'] <= convert_to_date('2022-11-8'))]\n",
    "df_2 = df_1.groupby('업체명').agg({'처리상태' : 'count'})\n",
    "df_2['구매확정'] = df_1[(df_1['처리상태'] == '구매확정')].groupby('업체명').agg({'처리상태' : 'count'})\n",
    "df_2['확정비율'] = round((df_2['구매확정']/df_2['처리상태'])*100,2)\n",
    "df_2['미결제건'] = df_1[(df_1['처리상태'] == '미결제')].groupby('업체명').agg({'처리상태' : 'count'})\n",
    "df_2['미결제비율'] = round((df_2['미결제건']/df_2['처리상태'])*100,2)\n",
    "df_2.rename(columns={'처리상태': '주문건수'}, inplace=True)\n",
    "df_2"
   ]
  },
  {
   "cell_type": "markdown",
   "id": "81d4fbd9",
   "metadata": {},
   "source": [
    "### 2022년 기준 입점업체 월별 거래 빈도 확인"
   ]
  },
  {
   "cell_type": "code",
   "execution_count": null,
   "id": "57377e4f",
   "metadata": {},
   "outputs": [],
   "source": [
    "df_3 = df[(df['주문일자'] >= convert_to_date('2022-01-01'))]\n",
    "df_4 = df_3[df_3['업체명']== '지니']\n",
    "df_5 = df_3[df_3['업체명']== '다우기술']\n",
    "df_6 = df_3[df_3['업체명']== '천재태블릿']"
   ]
  },
  {
   "cell_type": "markdown",
   "id": "6eeb7316",
   "metadata": {},
   "source": [
    "#### 지니 회사"
   ]
  },
  {
   "cell_type": "code",
   "execution_count": null,
   "id": "0556227a",
   "metadata": {
    "scrolled": true
   },
   "outputs": [],
   "source": [
    "df_4 = df_4[df_4['처리상태'] == '구매확정'].groupby('주문월').agg({'처리상태': 'count'}).reset_index()\n",
    "df_4.rename(columns={'처리상태': '구매확정건수'}, inplace=True)\n",
    "df_4.index = range(1,11)\n",
    "df_4"
   ]
  },
  {
   "cell_type": "markdown",
   "id": "538bc02d",
   "metadata": {},
   "source": [
    "#### 다우기술 회사"
   ]
  },
  {
   "cell_type": "code",
   "execution_count": null,
   "id": "1eccf841",
   "metadata": {},
   "outputs": [],
   "source": [
    "df_5 = df_5[df_5['처리상태'] == '구매확정'].groupby('주문월').agg({'처리상태': 'count'}).reset_index()\n",
    "df_5.rename(columns={'처리상태': '구매확정건수'}, inplace=True)\n",
    "df_5.index = range(1,12)\n",
    "df_5 = df_5[:-1]\n",
    "df_5"
   ]
  },
  {
   "cell_type": "markdown",
   "id": "e549f651",
   "metadata": {},
   "source": [
    "#### 천재태블릿 회사"
   ]
  },
  {
   "cell_type": "code",
   "execution_count": null,
   "id": "5b0af777",
   "metadata": {},
   "outputs": [],
   "source": [
    "df_6 = df_6[df_6['처리상태'] == '구매확정'].groupby('주문월').agg({'처리상태': 'count'}).reset_index()\n",
    "df_6.rename(columns={'처리상태': '구매확정건수'}, inplace=True)\n",
    "df_6.index = range(1,11)\n",
    "df_6"
   ]
  },
  {
   "cell_type": "markdown",
   "id": "6b30e4f3",
   "metadata": {},
   "source": [
    "#### 그래프로 확인"
   ]
  },
  {
   "cell_type": "code",
   "execution_count": null,
   "id": "6f97f1a2",
   "metadata": {},
   "outputs": [],
   "source": [
    "import matplotlib.pyplot as plt\n",
    "\n",
    "plt.rcParams['axes.unicode_minus'] = False\n",
    "plt.rc('font', family = 'Malgun Gothic')\n",
    "plt.plot(df_4['주문월'], df_4['구매확정건수'], marker='o', linestyle='-', color='b', label = '지니')\n",
    "plt.plot(df_5['주문월'], df_5['구매확정건수'], marker='o', linestyle='-', color='r', label = '다우기술')\n",
    "plt.plot(df_6['주문월'], df_6['구매확정건수'], marker='o', linestyle='-', color='g', label = '천재태블릿')\n",
    "plt.xticks(range(1, 11), ['1월', '2월', '3월', '4월', '5월', '6월', '7월', '8월', '9월', '10월'])\n",
    "plt.xlabel('주문 월(2022)')\n",
    "plt.ylabel('구매확정건수')\n",
    "plt.title('입점업체 월별 거래 빈도 확인')\n",
    "plt.legend(loc='upper right', bbox_to_anchor=(1.3, 1))\n",
    "\n",
    "plt.show()"
   ]
  },
  {
   "cell_type": "markdown",
   "id": "7ed771ea",
   "metadata": {},
   "source": [
    "## 2 - a, b번"
   ]
  },
  {
   "cell_type": "code",
   "execution_count": null,
   "id": "991bfcb9-fedc-4eb5-ba65-a1007efbf4c5",
   "metadata": {
    "tags": []
   },
   "outputs": [],
   "source": [
    "df.dtypes"
   ]
  },
  {
   "cell_type": "markdown",
   "id": "30121ba7-e79a-4ede-bd8a-7d539c97346e",
   "metadata": {},
   "source": [
    "### 회사가 지니일때"
   ]
  },
  {
   "cell_type": "code",
   "execution_count": null,
   "id": "b2f255e7-e32e-4b5a-919c-d3f1f68e6ee4",
   "metadata": {
    "tags": []
   },
   "outputs": [],
   "source": [
    "list_mon = [0] * 12\n",
    "\n",
    "for index, row in df1.iterrows():\n",
    "    if row['할부기간'] == 0:\n",
    "        list_mon[int(row['주문월'])-1] += row['순이익']\n",
    "    else:\n",
    "        monthly_amount = row['순이익'] / row['할부기간']\n",
    "        start_month_index = int(row['주문월'])-1\n",
    "        end_month_index = start_month_index + row['할부기간']\n",
    "        if end_month_index <= 12:\n",
    "            for i in range(start_month_index,end_month_index):\n",
    "                list_mon[i] += monthly_amount\n",
    "        elif end_month_index <= 24:\n",
    "            for i in range(start_month_index,12):\n",
    "                list_mon[i] += monthly_amount\n",
    "            for i in range(0,(end_month_index-12)):\n",
    "                list_mon[i] += monthly_amount\n",
    "        else:\n",
    "            for i in range(start_month_index,12):\n",
    "                list_mon[i] += monthly_amount\n",
    "            for i in range(0,12):\n",
    "                list_mon[i] += monthly_amount\n",
    "            for i in range(0,(end_month_index-24)):\n",
    "                list_mon[i] += monthly_amount  \n",
    "print(list_mon)\n",
    "#to do 월별\n",
    "# 주문월을 확인하고 해당 주문월을 가진 행의 할부기간을 확인한다.\n",
    "# 할부기간에 맞추어 순이익을 할부기간으로 나누고 나눠진 순이익을 그 다음 월부터 순차적으로 들어갈 수 있도록 한다.\n",
    "# 12월 다음에는 다시 처음으로 돌아올 수 있도록 한다.\n",
    "# 그렇게 각각의 리스트 값에 다 더해진 것을 막대그래프로 확인한다.\n",
    "\n",
    "#to do 년도별\n",
    "# 주문년도을 확인하고 해당 주문년도을 가진 행의 할부기간을 확인한다.\n",
    "# 할부기간에 맞추어 순이익을 할부기간으로 나누고 나눠진 순이익을 그 다음 월부터 순차적으로 들어갈 수 있도록 한다.\n",
    "# 12월 다음에는 다음년도 가격으로 들어갈 수 있도록 한다.\n",
    "# 그렇게 각각의 리스트 값에 다 더해진 것을 막대그래프로 확인한다.\n",
    "\n",
    "#월 기간"
   ]
  },
  {
   "cell_type": "code",
   "execution_count": null,
   "id": "09ffc919-b437-48ab-9264-a2840316cb65",
   "metadata": {
    "tags": []
   },
   "outputs": [],
   "source": [
    "import matplotlib.pyplot as plt\n",
    "\n",
    "plt.bar(range(1, 13), [val / 1e8 for val in list_mon])\n",
    "plt.xlabel('주문 월')\n",
    "plt.ylabel('순이익 (억 원)')\n",
    "plt.title('월별 순이익')\n",
    "plt.xticks(range(1, 13), ['1월', '2월', '3월', '4월', '5월', '6월', '7월', '8월', '9월', '10월', '11월', '12월'])\n",
    "plt.rc('font', family = 'Malgun Gothic')\n",
    "plt.rcParams['axes.unicode_minus'] = False\n",
    "plt.show()"
   ]
  },
  {
   "cell_type": "code",
   "execution_count": null,
   "id": "08bbf1f4-90ab-40fc-9327-3030058ab3d3",
   "metadata": {
    "tags": []
   },
   "outputs": [],
   "source": [
    "list_year = [0] * 6\n",
    "\n",
    "for index, row in df1.iterrows():\n",
    "    if row['할부기간'] == 0:\n",
    "        list_year[int(row['주문년도'])-2019] += row['순이익']\n",
    "    else:\n",
    "        yearly_amount = row['순이익'] / row['할부기간']\n",
    "        start_month_index = int(row['주문월'])-1\n",
    "        end_month_index = start_month_index + row['할부기간']\n",
    "        if end_month_index <= 12:\n",
    "            for i in range(start_month_index,end_month_index):\n",
    "                list_year[int(row['주문년도'])-2019] += yearly_amount\n",
    "        elif end_month_index <= 24:\n",
    "            for i in range(start_month_index,12):\n",
    "                list_year[int(row['주문년도'])-2019] += yearly_amount\n",
    "            for i in range(0,(end_month_index-12)):\n",
    "                list_year[int(row['주문년도'])-2018] += yearly_amount\n",
    "        else:\n",
    "            for i in range(start_month_index,12):\n",
    "                list_year[int(row['주문년도'])-2019] += yearly_amount\n",
    "            for i in range(0,12):\n",
    "                list_year[int(row['주문년도'])-2018] += yearly_amount\n",
    "            for i in range(0,(end_month_index-24)):\n",
    "                list_year[int(row['주문년도'])-2017] += yearly_amount  \n",
    "print(list_year)\n",
    "#to do 월별\n",
    "# 주문월을 확인하고 해당 주문월을 가진 행의 할부기간을 확인한다.\n",
    "# 할부기간에 맞추어 순이익을 할부기간으로 나누고 나눠진 순이익을 그 다음 월부터 순차적으로 들어갈 수 있도록 한다.\n",
    "# 12월 다음에는 다시 처음으로 돌아올 수 있도록 한다.\n",
    "# 그렇게 각각의 리스트 값에 다 더해진 것을 막대그래프로 확인한다.\n",
    "\n",
    "#to do 년도별\n",
    "# 주문년도을 확인하고 해당 주문년도을 가진 행의 할부기간을 확인한다.\n",
    "# 할부기간에 맞추어 순이익을 할부기간으로 나누고 나눠진 순이익을 그 다음 월부터 순차적으로 들어갈 수 있도록 한다.\n",
    "# 12월 다음에는 다음년도 가격으로 들어갈 수 있도록 한다.\n",
    "# 그렇게 각각의 리스트 값에 다 더해진 것을 막대그래프로 확인한다.\n",
    "\n",
    "#월 기간"
   ]
  },
  {
   "cell_type": "code",
   "execution_count": null,
   "id": "4fa0f47a-c36f-4791-896e-4966efff6454",
   "metadata": {
    "tags": []
   },
   "outputs": [],
   "source": [
    "import matplotlib.pyplot as plt\n",
    "\n",
    "plt.bar(range(1, 6), [val / 1e8 for val in list_year[1:]])\n",
    "plt.xlabel('주문 년도')\n",
    "plt.ylabel('순이익 (억 원)')\n",
    "plt.title('년도별 순이익')\n",
    "plt.xticks(range(1, 6), ['2020년', '2021년', '2022년', '2023년', '2024년'])\n",
    "plt.show()"
   ]
  },
  {
   "cell_type": "markdown",
   "id": "cd10735c-59ad-40ff-a63e-e1c99755a45f",
   "metadata": {},
   "source": [
    "### 회사가 다우기술일때"
   ]
  },
  {
   "cell_type": "code",
   "execution_count": null,
   "id": "6df17796-e610-4d1d-8673-98b14cb6515c",
   "metadata": {
    "tags": []
   },
   "outputs": [],
   "source": [
    "list_mon2 = [0] * 12\n",
    "\n",
    "for index, row in df2.iterrows():\n",
    "    if row['할부기간'] == 0:\n",
    "        list_mon2[int(row['주문월'])-1] += row['순이익']\n",
    "    else:\n",
    "        monthly_amount = row['순이익'] / row['할부기간']\n",
    "        start_month_index = int(row['주문월'])-1\n",
    "        end_month_index = start_month_index + row['할부기간']\n",
    "        if end_month_index <= 12:\n",
    "            for i in range(start_month_index,end_month_index):\n",
    "                list_mon2[i] += monthly_amount\n",
    "        elif end_month_index <= 24:\n",
    "            for i in range(start_month_index,12):\n",
    "                list_mon2[i] += monthly_amount\n",
    "            for i in range(0,(end_month_index-12)):\n",
    "                list_mon2[i] += monthly_amount\n",
    "        else:\n",
    "            for i in range(start_month_index,12):\n",
    "                list_mon2[i] += monthly_amount\n",
    "            for i in range(0,12):\n",
    "                list_mon2[i] += monthly_amount\n",
    "            for i in range(0,(end_month_index-24)):\n",
    "                list_mon2[i] += monthly_amount  \n",
    "print(list_mon2)\n",
    "#to do 월별\n",
    "# 주문월을 확인하고 해당 주문월을 가진 행의 할부기간을 확인한다.\n",
    "# 할부기간에 맞추어 순이익을 할부기간으로 나누고 나눠진 순이익을 그 다음 월부터 순차적으로 들어갈 수 있도록 한다.\n",
    "# 12월 다음에는 다시 처음으로 돌아올 수 있도록 한다.\n",
    "# 그렇게 각각의 리스트 값에 다 더해진 것을 막대그래프로 확인한다.\n",
    "\n",
    "#to do 년도별\n",
    "# 주문년도을 확인하고 해당 주문년도을 가진 행의 할부기간을 확인한다.\n",
    "# 할부기간에 맞추어 순이익을 할부기간으로 나누고 나눠진 순이익을 그 다음 월부터 순차적으로 들어갈 수 있도록 한다.\n",
    "# 12월 다음에는 다음년도 가격으로 들어갈 수 있도록 한다.\n",
    "# 그렇게 각각의 리스트 값에 다 더해진 것을 막대그래프로 확인한다.\n",
    "\n",
    "#월 기간"
   ]
  },
  {
   "cell_type": "code",
   "execution_count": null,
   "id": "e7ff77c0-c227-4382-9129-78ee0528306e",
   "metadata": {
    "tags": []
   },
   "outputs": [],
   "source": [
    "import matplotlib.pyplot as plt\n",
    "\n",
    "plt.bar(range(1, 13), [val / 1e8 for val in list_mon2])\n",
    "plt.xlabel('주문 월')\n",
    "plt.ylabel('순이익 (억 원)')\n",
    "plt.title('월별 순이익')\n",
    "plt.xticks(range(1, 13), ['1월', '2월', '3월', '4월', '5월', '6월', '7월', '8월', '9월', '10월', '11월', '12월'])\n",
    "plt.show()"
   ]
  },
  {
   "cell_type": "code",
   "execution_count": null,
   "id": "2ab97bf0-02f6-44a1-b53d-693aaf8aae9b",
   "metadata": {
    "tags": []
   },
   "outputs": [],
   "source": [
    "list_year2 = [0] * 6\n",
    "\n",
    "for index, row in df2.iterrows():\n",
    "    if row['할부기간'] == 0:\n",
    "        list_year2[int(row['주문년도'])-2019] += row['순이익']\n",
    "    else:\n",
    "        yearly_amount = row['순이익'] / row['할부기간']\n",
    "        start_month_index = int(row['주문월'])-1\n",
    "        end_month_index = start_month_index + row['할부기간']\n",
    "        if end_month_index <= 12:\n",
    "            for i in range(start_month_index,end_month_index):\n",
    "                list_year2[int(row['주문년도'])-2019] += yearly_amount\n",
    "        elif end_month_index <= 24:\n",
    "            for i in range(start_month_index,12):\n",
    "                list_year2[int(row['주문년도'])-2019] += yearly_amount\n",
    "            for i in range(0,(end_month_index-12)):\n",
    "                list_year2[int(row['주문년도'])-2018] += yearly_amount\n",
    "        else:\n",
    "            for i in range(start_month_index,12):\n",
    "                list_year2[int(row['주문년도'])-2019] += yearly_amount\n",
    "            for i in range(0,12):\n",
    "                list_year2[int(row['주문년도'])-2018] += yearly_amount\n",
    "            for i in range(0,(end_month_index-24)):\n",
    "                list_year2[int(row['주문년도'])-2017] += yearly_amount  \n",
    "print(list_year2)\n",
    "#to do 월별\n",
    "# 주문월을 확인하고 해당 주문월을 가진 행의 할부기간을 확인한다.\n",
    "# 할부기간에 맞추어 순이익을 할부기간으로 나누고 나눠진 순이익을 그 다음 월부터 순차적으로 들어갈 수 있도록 한다.\n",
    "# 12월 다음에는 다시 처음으로 돌아올 수 있도록 한다.\n",
    "# 그렇게 각각의 리스트 값에 다 더해진 것을 막대그래프로 확인한다.\n",
    "\n",
    "#to do 년도별\n",
    "# 주문년도을 확인하고 해당 주문년도을 가진 행의 할부기간을 확인한다.\n",
    "# 할부기간에 맞추어 순이익을 할부기간으로 나누고 나눠진 순이익을 그 다음 월부터 순차적으로 들어갈 수 있도록 한다.\n",
    "# 12월 다음에는 다음년도 가격으로 들어갈 수 있도록 한다.\n",
    "# 그렇게 각각의 리스트 값에 다 더해진 것을 막대그래프로 확인한다.\n",
    "\n",
    "#월 기간"
   ]
  },
  {
   "cell_type": "code",
   "execution_count": null,
   "id": "178d7ed8-249e-472f-93e1-34bb06172959",
   "metadata": {
    "tags": []
   },
   "outputs": [],
   "source": [
    "import matplotlib.pyplot as plt\n",
    "\n",
    "plt.bar(range(1, 6), [val / 1e8 for val in list_year2[1:]])\n",
    "plt.xlabel('주문 년도')\n",
    "plt.ylabel('순이익 (억 원)')\n",
    "plt.title('년도별 순이익')\n",
    "plt.xticks(range(1, 6), ['2020년', '2021년', '2022년', '2023년', '2024년'])\n",
    "plt.show()"
   ]
  },
  {
   "cell_type": "markdown",
   "id": "4cf8d692-a13e-40cd-91a2-e3a9b92bd31d",
   "metadata": {},
   "source": [
    "### 회사가 천재태블릿일때"
   ]
  },
  {
   "cell_type": "code",
   "execution_count": null,
   "id": "1bb60a3a-63c8-4cb9-87be-30a4ca3c4f39",
   "metadata": {
    "tags": []
   },
   "outputs": [],
   "source": [
    "list_mon3 = [0] * 12\n",
    "\n",
    "for index, row in df3.iterrows():\n",
    "    if row['할부기간'] == 0:\n",
    "        list_mon3[int(row['주문월'])-1] += row['순이익']\n",
    "    else:\n",
    "        monthly_amount = row['순이익'] / row['할부기간']\n",
    "        start_month_index = int(row['주문월'])-1\n",
    "        end_month_index = start_month_index + row['할부기간']\n",
    "        if end_month_index <= 12:\n",
    "            for i in range(start_month_index,end_month_index):\n",
    "                list_mon3[i] += monthly_amount\n",
    "        elif end_month_index <= 24:\n",
    "            for i in range(start_month_index,12):\n",
    "                list_mon3[i] += monthly_amount\n",
    "            for i in range(0,(end_month_index-12)):\n",
    "                list_mon3[i] += monthly_amount\n",
    "        else:\n",
    "            for i in range(start_month_index,12):\n",
    "                list_mon3[i] += monthly_amount\n",
    "            for i in range(0,12):\n",
    "                list_mon3[i] += monthly_amount\n",
    "            for i in range(0,(end_month_index-24)):\n",
    "                list_mon3[i] += monthly_amount  \n",
    "print(list_mon3)\n",
    "#to do 월별\n",
    "# 주문월을 확인하고 해당 주문월을 가진 행의 할부기간을 확인한다.\n",
    "# 할부기간에 맞추어 순이익을 할부기간으로 나누고 나눠진 순이익을 그 다음 월부터 순차적으로 들어갈 수 있도록 한다.\n",
    "# 12월 다음에는 다시 처음으로 돌아올 수 있도록 한다.\n",
    "# 그렇게 각각의 리스트 값에 다 더해진 것을 막대그래프로 확인한다.\n",
    "\n",
    "#to do 년도별\n",
    "# 주문년도을 확인하고 해당 주문년도을 가진 행의 할부기간을 확인한다.\n",
    "# 할부기간에 맞추어 순이익을 할부기간으로 나누고 나눠진 순이익을 그 다음 월부터 순차적으로 들어갈 수 있도록 한다.\n",
    "# 12월 다음에는 다음년도 가격으로 들어갈 수 있도록 한다.\n",
    "# 그렇게 각각의 리스트 값에 다 더해진 것을 막대그래프로 확인한다.\n",
    "\n",
    "#월 기간"
   ]
  },
  {
   "cell_type": "code",
   "execution_count": null,
   "id": "274c9acf-f41b-4375-9a28-29221a06633e",
   "metadata": {
    "tags": []
   },
   "outputs": [],
   "source": [
    "import matplotlib.pyplot as plt\n",
    "\n",
    "plt.bar(range(1, 13), [val / 1e8 for val in list_mon3])\n",
    "plt.xlabel('주문 월')\n",
    "plt.ylabel('순이익 (억 원)')\n",
    "plt.title('월별 순이익')\n",
    "plt.xticks(range(1, 13), ['1월', '2월', '3월', '4월', '5월', '6월', '7월', '8월', '9월', '10월', '11월', '12월'])\n",
    "plt.show()"
   ]
  },
  {
   "cell_type": "code",
   "execution_count": null,
   "id": "b57b761e-2eef-43c4-bf2d-29b8d7be196a",
   "metadata": {
    "tags": []
   },
   "outputs": [],
   "source": [
    "list_year3 = [0] * 6\n",
    "\n",
    "for index, row in df3.iterrows():\n",
    "    if row['할부기간'] == 0:\n",
    "        list_year3[int(row['주문년도'])-2019] += row['순이익']\n",
    "    else:\n",
    "        yearly_amount = row['순이익'] / row['할부기간']\n",
    "        start_month_index = int(row['주문월'])-1\n",
    "        end_month_index = start_month_index + row['할부기간']\n",
    "        if end_month_index <= 12:\n",
    "            for i in range(start_month_index,end_month_index):\n",
    "                list_year3[int(row['주문년도'])-2019] += yearly_amount\n",
    "        elif end_month_index <= 24:\n",
    "            for i in range(start_month_index,12):\n",
    "                list_year3[int(row['주문년도'])-2019] += yearly_amount\n",
    "            for i in range(0,(end_month_index-12)):\n",
    "                list_year3[int(row['주문년도'])-2018] += yearly_amount\n",
    "        else:\n",
    "            for i in range(start_month_index,12):\n",
    "                list_year3[int(row['주문년도'])-2019] += yearly_amount\n",
    "            for i in range(0,12):\n",
    "                list_year3[int(row['주문년도'])-2018] += yearly_amount\n",
    "            for i in range(0,(end_month_index-24)):\n",
    "                list_year3[int(row['주문년도'])-2017] += yearly_amount  \n",
    "print(list_year3)\n",
    "#to do 월별\n",
    "# 주문월을 확인하고 해당 주문월을 가진 행의 할부기간을 확인한다.\n",
    "# 할부기간에 맞추어 순이익을 할부기간으로 나누고 나눠진 순이익을 그 다음 월부터 순차적으로 들어갈 수 있도록 한다.\n",
    "# 12월 다음에는 다시 처음으로 돌아올 수 있도록 한다.\n",
    "# 그렇게 각각의 리스트 값에 다 더해진 것을 막대그래프로 확인한다.\n",
    "\n",
    "#to do 년도별\n",
    "# 주문년도을 확인하고 해당 주문년도을 가진 행의 할부기간을 확인한다.\n",
    "# 할부기간에 맞추어 순이익을 할부기간으로 나누고 나눠진 순이익을 그 다음 월부터 순차적으로 들어갈 수 있도록 한다.\n",
    "# 12월 다음에는 다음년도 가격으로 들어갈 수 있도록 한다.\n",
    "# 그렇게 각각의 리스트 값에 다 더해진 것을 막대그래프로 확인한다.\n",
    "\n",
    "#월 기간"
   ]
  },
  {
   "cell_type": "code",
   "execution_count": null,
   "id": "0cfb668b-6a06-4651-b083-b989a51efa38",
   "metadata": {
    "scrolled": false,
    "tags": []
   },
   "outputs": [],
   "source": [
    "import matplotlib.pyplot as plt\n",
    "\n",
    "plt.bar(range(1, 6), [val / 1e8 for val in list_year3[1:]])\n",
    "plt.xlabel('주문 년도')\n",
    "plt.ylabel('순이익 (억 원)')\n",
    "plt.title('년도별 순이익')\n",
    "plt.xticks(range(1, 6), ['2020년', '2021년', '2022년', '2023년', '2024년'])\n",
    "plt.show()"
   ]
  },
  {
   "cell_type": "markdown",
   "id": "fe3fd72b",
   "metadata": {},
   "source": [
    "### 세 입점기업을 한 번에 확인하기"
   ]
  },
  {
   "cell_type": "code",
   "execution_count": null,
   "id": "00549159",
   "metadata": {},
   "outputs": [],
   "source": [
    "import matplotlib.pyplot as plt\n",
    "\n",
    "plt.plot(range(1, 13), [val / 1e8 for val in list_mon], label = '지니')\n",
    "plt.plot(range(1, 13), [val / 1e8 for val in list_mon2], label = '다우기술')\n",
    "plt.plot(range(1, 13), [val / 1e8 for val in list_mon3], label = '천재태블릿')\n",
    "\n",
    "\n",
    "plt.xlabel('주문 월')\n",
    "plt.ylabel('순이익 (억 원)')\n",
    "plt.title('입점 기업별 월별 순이익')\n",
    "plt.xticks(range(1, 13), ['1월', '2월', '3월', '4월', '5월', '6월', '7월', '8월', '9월', '10월', '11월', '12월'])\n",
    "plt.rc('font', family = 'Malgun Gothic')\n",
    "plt.rcParams['axes.unicode_minus'] = False\n",
    "plt.legend()\n",
    "plt.show()"
   ]
  },
  {
   "cell_type": "code",
   "execution_count": null,
   "id": "3f5ad212",
   "metadata": {},
   "outputs": [],
   "source": [
    "import matplotlib.pyplot as plt\n",
    "\n",
    "plt.plot(range(1, 6), [val / 1e8 for val in list_year[1:]], label = '지니')\n",
    "plt.plot(range(1, 6), [val / 1e8 for val in list_year2[1:]], label = '다우기술')\n",
    "plt.plot(range(1, 6), [val / 1e8 for val in list_year3[1:]], label = '천재태블릿')\n",
    "\n",
    "plt.xlabel('주문 년도')\n",
    "plt.ylabel('순이익 (억 원)')\n",
    "plt.title('입점 기업별 연도별 순이익')\n",
    "plt.xticks(range(1, 6), ['2020년', '2021년', '2022년', '2023년', '2024년'])\n",
    "plt.legend()\n",
    "plt.show()"
   ]
  },
  {
   "cell_type": "markdown",
   "id": "bd57dbcb-8642-4ee3-a2f2-60f3a0943c0b",
   "metadata": {
    "tags": []
   },
   "source": [
    "## 3 - a, b번"
   ]
  },
  {
   "cell_type": "markdown",
   "id": "0ba420b3-d84c-4f32-9c3c-1129bbf15fc3",
   "metadata": {},
   "source": [
    "### 결제 방법과 결제 금액의 연관성 분석"
   ]
  },
  {
   "cell_type": "markdown",
   "id": "61a64464-4772-45f3-96b5-559c10660177",
   "metadata": {
    "tags": []
   },
   "source": [
    "### 결제 방법에 따른 분석"
   ]
  },
  {
   "cell_type": "code",
   "execution_count": null,
   "id": "c5f37e31-560d-4254-9e41-8a2889861628",
   "metadata": {
    "tags": []
   },
   "outputs": [],
   "source": [
    "df.dropna(subset=['결제방법'], inplace=True)\n",
    "df = df[df['결제방법'] != '-']"
   ]
  },
  {
   "cell_type": "code",
   "execution_count": null,
   "id": "b135c5ed-6a48-4c02-8c03-3d45b9625a02",
   "metadata": {
    "tags": []
   },
   "outputs": [],
   "source": [
    "df['결제방법'].unique()\n",
    "df['판매금액'].fillna(0, inplace=True)"
   ]
  },
  {
   "cell_type": "code",
   "execution_count": null,
   "id": "b5ba1c4f-fbb8-4b98-80a8-76784769142a",
   "metadata": {
    "tags": []
   },
   "outputs": [],
   "source": [
    "df['처리상태'].unique()"
   ]
  },
  {
   "cell_type": "code",
   "execution_count": null,
   "id": "eb0a9876-5154-46e9-be76-1cf81021c8f9",
   "metadata": {
    "tags": []
   },
   "outputs": [],
   "source": [
    "df1= df[df['업체명'] == '지니']\n",
    "df2= df[df['업체명'] == '다우기술']\n",
    "df3= df[df['업체명'] == '천재태블릿']"
   ]
  },
  {
   "cell_type": "code",
   "execution_count": null,
   "id": "63dc15ad-0727-4ab9-b6a1-e52ad11fb52e",
   "metadata": {
    "tags": []
   },
   "outputs": [],
   "source": [
    "df1"
   ]
  },
  {
   "cell_type": "markdown",
   "id": "d6d1c419-70d9-4665-b538-7569452a6419",
   "metadata": {},
   "source": [
    "### 지니 회사"
   ]
  },
  {
   "cell_type": "code",
   "execution_count": null,
   "id": "d8766718-9db5-48be-830d-7ad844edfac0",
   "metadata": {
    "tags": []
   },
   "outputs": [],
   "source": [
    "# 우선 등분산성을 확인하자 -> 등분산성이 위배되었다.\n",
    "df1['결제방법'].unique()"
   ]
  },
  {
   "cell_type": "code",
   "execution_count": null,
   "id": "aaf65e5b-b277-48c3-a939-a3854d1bf9af",
   "metadata": {
    "scrolled": true,
    "tags": []
   },
   "outputs": [],
   "source": [
    "from scipy.stats import levene\n",
    "\n",
    "# 등분산성 검정\n",
    "levene_stat, levene_p = levene(df1['판매금액'][df1['결제방법'] == '신용카드'],\n",
    "                               df1['판매금액'][df1['결제방법'] == '후불'],\n",
    "                               df1['판매금액'][df1['결제방법'] == '무통장입금'],\n",
    "                               df1['판매금액'][df1['결제방법'] == '가상계좌'],\n",
    "                               df1['판매금액'][df1['결제방법'] == '포인트'],\n",
    "                               df1['판매금액'][df1['결제방법'] == '적립금'],\n",
    "                               df1['판매금액'][df1['결제방법'] == '웰컴마일'],\n",
    "                               df1['판매금액'][df1['결제방법'] == '정기결제'],\n",
    "                               df1['판매금액'][df1['결제방법'] == '현금간편결제'])\n",
    "\n",
    "print(\"Levene's test p-value:\", levene_p)\n",
    "\n",
    "if levene_p < 0.05:\n",
    "    print(\"등분산성 가정이 통계적으로 유의미하게 위배되었습니다.\")\n",
    "else:\n",
    "    print(\"등분산성 가정이 통계적으로 유의미하게 위배되지 않았습니다.\")"
   ]
  },
  {
   "cell_type": "code",
   "execution_count": null,
   "id": "659d40e9-ee86-4371-97ef-1a27a627c80e",
   "metadata": {
    "tags": []
   },
   "outputs": [],
   "source": [
    "from scipy.stats import f_oneway\n",
    "\n",
    "result_welch = f_oneway(df1['판매금액'][df1['결제방법'] == '신용카드'],\n",
    "                               df1['판매금액'][df1['결제방법'] == '후불'],\n",
    "                               df1['판매금액'][df1['결제방법'] == '무통장입금'],\n",
    "                               df1['판매금액'][df1['결제방법'] == '가상계좌'],\n",
    "                               df1['판매금액'][df1['결제방법'] == '포인트'],\n",
    "                               df1['판매금액'][df1['결제방법'] == '적립금'],\n",
    "                               df1['판매금액'][df1['결제방법'] == '웰컴마일'],\n",
    "                               df1['판매금액'][df1['결제방법'] == '정기결제'],\n",
    "                               df1['판매금액'][df1['결제방법'] == '현금간편결제'])\n",
    "\n",
    "\n",
    "print(\"Welch's ANOVA 결과:\")\n",
    "print(\"F-statistic:\", result_welch.statistic)\n",
    "print(\"p-value:\", result_welch.pvalue)\n",
    "\n",
    "if result_welch.pvalue < 0.05:\n",
    "    print(\"등분산성 가정이 위배되었지만, Welch's ANOVA 결과가 통계적으로 유의미합니다.\")\n",
    "else:\n",
    "    print(\"등분산성 가정이 위배되지 않았습니다.\")\n"
   ]
  },
  {
   "cell_type": "code",
   "execution_count": null,
   "id": "4a531b68-edb3-42a2-a598-5a402bcc6a8d",
   "metadata": {
    "tags": []
   },
   "outputs": [],
   "source": [
    "import seaborn as sns\n",
    "import matplotlib.pyplot as plt\n",
    "import numpy as np\n",
    "\n",
    "df1['로그_판매금액'] = np.log1p(df1['판매금액'])\n",
    "plt.figure(figsize=(8, 6))\n",
    "sns.boxplot(x='결제방법', y='로그_판매금액', data=df1, showfliers=False)\n",
    "plt.title('지니 회사에서의 결제방법에 따른 결제금액 확인')\n",
    "plt.rc('font', family = 'Malgun Gothic')\n",
    "plt.rcParams['axes.unicode_minus'] = False\n",
    "plt.show()\n"
   ]
  },
  {
   "cell_type": "code",
   "execution_count": null,
   "id": "03f36148-6433-4b95-85b6-19a5e51d145d",
   "metadata": {
    "tags": []
   },
   "outputs": [],
   "source": [
    "count_virtual_account = (df1['결제방법'] == '무통장입금').sum()\n",
    "print(count_virtual_account)"
   ]
  },
  {
   "cell_type": "code",
   "execution_count": null,
   "id": "350ef9ed-dc7a-40d6-a519-75af2bb7db63",
   "metadata": {
    "tags": []
   },
   "outputs": [],
   "source": [
    "df1[df1['결제방법'] == '무통장입금']"
   ]
  },
  {
   "cell_type": "markdown",
   "id": "26aedf89-d37c-4168-9991-5ec2927da43f",
   "metadata": {},
   "source": [
    "### 다우기술 회사"
   ]
  },
  {
   "cell_type": "code",
   "execution_count": null,
   "id": "11911b19-c373-4012-a42b-3c4291968d93",
   "metadata": {
    "tags": []
   },
   "outputs": [],
   "source": [
    "df2['결제방법'].unique()"
   ]
  },
  {
   "cell_type": "code",
   "execution_count": null,
   "id": "c6ab12f3-0a70-420c-acff-7a30b7297407",
   "metadata": {
    "tags": []
   },
   "outputs": [],
   "source": [
    "from scipy.stats import levene\n",
    "\n",
    "# 등분산성 검정\n",
    "levene_stat, levene_p = levene(df2['판매금액'][df2['결제방법'] == '신용카드'],\n",
    "                               df2['판매금액'][df2['결제방법'] == '포인트'],\n",
    "                               df2['판매금액'][df2['결제방법'] == '적립금'],\n",
    "                               df2['판매금액'][df2['결제방법'] == '현금간편결제'])\n",
    "\n",
    "print(\"Levene's test p-value:\", levene_p)\n",
    "\n",
    "if levene_p < 0.05:\n",
    "    print(\"등분산성 가정이 통계적으로 유의미하게 위배되었습니다.\")\n",
    "else:\n",
    "    print(\"등분산성 가정이 통계적으로 유의미하게 위배되지 않았습니다.\")"
   ]
  },
  {
   "cell_type": "code",
   "execution_count": null,
   "id": "370fb669-47eb-4e32-a5cb-7b65ae3ff81b",
   "metadata": {
    "tags": []
   },
   "outputs": [],
   "source": [
    "from scipy.stats import f_oneway\n",
    "\n",
    "result_welch = f_oneway(df2['판매금액'][df2['결제방법'] == '신용카드'],\n",
    "                               df2['판매금액'][df2['결제방법'] == '포인트'],\n",
    "                               df2['판매금액'][df2['결제방법'] == '적립금'],\n",
    "                               df2['판매금액'][df2['결제방법'] == '현금간편결제'])\n",
    "\n",
    "\n",
    "\n",
    "print(\"Welch's ANOVA 결과:\")\n",
    "print(\"F-statistic:\", result_welch.statistic)\n",
    "print(\"p-value:\", result_welch.pvalue)\n",
    "\n",
    "if result_welch.pvalue < 0.05:\n",
    "    print(\"등분산성 가정이 위배되었지만, Welch's ANOVA 결과가 통계적으로 유의미합니다.\")\n",
    "else:\n",
    "    print(\"등분산성 가정이 위배되지 않았습니다.\")\n"
   ]
  },
  {
   "cell_type": "code",
   "execution_count": null,
   "id": "9cddad04-124f-4e2b-9663-f35695663b9f",
   "metadata": {
    "scrolled": false,
    "tags": []
   },
   "outputs": [],
   "source": [
    "import seaborn as sns\n",
    "import matplotlib.pyplot as plt\n",
    "import numpy as np\n",
    "\n",
    "plt.figure(figsize=(10, 10))\n",
    "sns.boxplot(x='결제방법', y='판매금액', data=df2, showfliers=False)\n",
    "plt.title('다우기술 회사에서의 결제 방법에 따른 결제금액 확인')\n",
    "plt.rc('font', family = 'Malgun Gothic')\n",
    "plt.rcParams['axes.unicode_minus'] = False\n",
    "plt.show()\n"
   ]
  },
  {
   "cell_type": "code",
   "execution_count": null,
   "id": "04ce6b1e",
   "metadata": {},
   "outputs": [],
   "source": [
    "import numpy as np\n",
    "plt.boxplot((df2[df2['결제방법'] == '적립금']['판매금액']),\n",
    "            labels=['적립금'], showfliers=True)"
   ]
  },
  {
   "cell_type": "code",
   "execution_count": null,
   "id": "9c00d4fb-0ac9-47f8-9eae-4e2b1c09a9c5",
   "metadata": {
    "tags": []
   },
   "outputs": [],
   "source": [
    "count_virtual_account = (df2['결제방법'] == '적립금').sum()\n",
    "print(count_virtual_account)"
   ]
  },
  {
   "cell_type": "code",
   "execution_count": null,
   "id": "2e0c39e7-0ca8-491f-ad84-fce32a0fa79e",
   "metadata": {
    "tags": []
   },
   "outputs": [],
   "source": [
    "df2[df2['결제방법'] == '적립금']['판매금액'].unique()"
   ]
  },
  {
   "cell_type": "markdown",
   "id": "8634e512-5604-4790-b864-78e0d9a88620",
   "metadata": {},
   "source": [
    "### 천재태블릿 회사"
   ]
  },
  {
   "cell_type": "code",
   "execution_count": null,
   "id": "f1cec243-3542-4e2c-a8c8-b58394708aae",
   "metadata": {
    "tags": []
   },
   "outputs": [],
   "source": [
    "df3['결제방법'].unique()"
   ]
  },
  {
   "cell_type": "code",
   "execution_count": null,
   "id": "9563510a-51ae-4fc8-b225-dfb6097ceb2f",
   "metadata": {
    "tags": []
   },
   "outputs": [],
   "source": [
    "from scipy.stats import levene\n",
    "\n",
    "# 등분산성 검정\n",
    "levene_stat, levene_p = levene(df3['판매금액'][df3['결제방법'] == '신용카드'],\n",
    "                               df3['판매금액'][df3['결제방법'] == '포인트'],\n",
    "                               df3['판매금액'][df3['결제방법'] == '적립금'],\n",
    "                               df3['판매금액'][df3['결제방법'] == '웰컴마일'],\n",
    "                               df3['판매금액'][df3['결제방법'] == '정기결제'],\n",
    "                               df3['판매금액'][df3['결제방법'] == '현금간편결제'])\n",
    "\n",
    "print(\"Levene's test p-value:\", levene_p)\n",
    "\n",
    "if levene_p < 0.05:\n",
    "    print(\"등분산성 가정이 통계적으로 유의미하게 위배되었습니다.\")\n",
    "else:\n",
    "    print(\"등분산성 가정이 통계적으로 유의미하게 위배되지 않았습니다.\")"
   ]
  },
  {
   "cell_type": "code",
   "execution_count": null,
   "id": "c1c26bb0-c913-4d40-b471-16e91794bf57",
   "metadata": {
    "tags": []
   },
   "outputs": [],
   "source": [
    "from scipy.stats import f_oneway\n",
    "\n",
    "result_welch = f_oneway(df3['판매금액'][df3['결제방법'] == '신용카드'],\n",
    "                               df3['판매금액'][df3['결제방법'] == '포인트'],\n",
    "                               df3['판매금액'][df3['결제방법'] == '적립금'],\n",
    "                               df3['판매금액'][df3['결제방법'] == '웰컴마일'],\n",
    "                               df3['판매금액'][df3['결제방법'] == '정기결제'],\n",
    "                               df3['판매금액'][df3['결제방법'] == '현금간편결제'])\n",
    "\n",
    "\n",
    "print(\"Welch's ANOVA 결과:\")\n",
    "print(\"F-statistic:\", result_welch.statistic)\n",
    "print(\"p-value:\", result_welch.pvalue)\n",
    "\n",
    "if result_welch.pvalue < 0.05:\n",
    "    print(\"등분산성 가정이 위배되었지만, Welch's ANOVA 결과가 통계적으로 유의미합니다.\")\n",
    "else:\n",
    "    print(\"등분산성 가정이 위배되지 않았습니다.\")\n"
   ]
  },
  {
   "cell_type": "code",
   "execution_count": null,
   "id": "8ef36c92-ae9b-44b2-94cb-63d7e450e9bb",
   "metadata": {
    "tags": []
   },
   "outputs": [],
   "source": [
    "import seaborn as sns\n",
    "import matplotlib.pyplot as plt\n",
    "import numpy as np\n",
    "\n",
    "plt.figure(figsize=(8, 6))\n",
    "sns.boxplot(x='결제방법', y='판매금액', data=df3, showfliers=False)\n",
    "plt.title('천재태블릿 회사에서의 결제 방법에 따른 판매금액 확인')\n",
    "plt.rc('font', family = 'Malgun Gothic')\n",
    "plt.rcParams['axes.unicode_minus'] = False\n",
    "plt.show()\n"
   ]
  },
  {
   "cell_type": "code",
   "execution_count": null,
   "id": "b56bada2-4e34-42d4-8ad1-34235efc884a",
   "metadata": {
    "tags": []
   },
   "outputs": [],
   "source": [
    "count_virtual_account = (df3['결제방법'] == '포인트').sum()\n",
    "print(count_virtual_account)"
   ]
  },
  {
   "cell_type": "code",
   "execution_count": null,
   "id": "9056fdac-ebec-4aed-936e-a7bbdb492023",
   "metadata": {
    "tags": []
   },
   "outputs": [],
   "source": [
    "df3[df3['결제방법'] == '포인트']['판매금액'].unique()"
   ]
  },
  {
   "cell_type": "code",
   "execution_count": null,
   "id": "05be9eff-59b6-4fb8-b943-6e73d967ad4f",
   "metadata": {},
   "outputs": [],
   "source": []
  }
 ],
 "metadata": {
  "kernelspec": {
   "display_name": "Python 3 (ipykernel)",
   "language": "python",
   "name": "python3"
  },
  "language_info": {
   "codemirror_mode": {
    "name": "ipython",
    "version": 3
   },
   "file_extension": ".py",
   "mimetype": "text/x-python",
   "name": "python",
   "nbconvert_exporter": "python",
   "pygments_lexer": "ipython3",
   "version": "3.11.5"
  }
 },
 "nbformat": 4,
 "nbformat_minor": 5
}
